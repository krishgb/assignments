{
  "cells": [
    {
      "cell_type": "markdown",
      "metadata": {
        "id": "TArFmn48oE9R"
      },
      "source": [
        " 28. Scatter Plot:"
      ]
    },
    {
      "cell_type": "code",
      "execution_count": 1,
      "metadata": {
        "colab": {
          "base_uri": "https://localhost:8080/",
          "height": 265
        },
        "id": "Qp8Ozu5goLTn",
        "outputId": "1d821cf7-f0cc-48e1-a3a2-d80eaf5c2abf"
      },
      "outputs": [
        {
          "data": {
            "image/png": "[encoded data removed]",
            "text/plain": [
              "<Figure size 432x288 with 1 Axes>"
            ]
          },
          "metadata": {
            "needs_background": "light"
          },
          "output_type": "display_data"
        }
      ],
      "source": [
        "import matplotlib.pyplot as plt\n",
        "x = [0,3,2,1,5,5,4,3,0,4]\n",
        "y = [2,8,7,3,13,12,9,9,3,10]\n",
        "plt.scatter(x,y)\n",
        "plt.show()"
      ]
    },
    {
      "cell_type": "markdown",
      "metadata": {
        "id": "zCYmgSBtoVjO"
      },
      "source": [
        "29. Use regression to find the equation for the line of best fit."
      ]
    },
    {
      "cell_type": "code",
      "execution_count": 5,
      "metadata": {
        "colab": {
          "base_uri": "https://localhost:8080/",
          "height": 331
        },
        "id": "KuiR0Nu1oaUa",
        "outputId": "91b80934-02c1-4e29-9622-1847a1c204b3"
      },
      "outputs": [
        {
          "name": "stdout",
          "output_type": "stream",
          "text": [
            "Slope b1 is:  0.32534421213666503\n",
            "Intercept b0 is:  6.721570627231004\n"
          ]
        },
        {
          "data": {
            "text/plain": [
              "Text(0, 0.5, 'Y')"
            ]
          },
          "execution_count": 5,
          "metadata": {},
          "output_type": "execute_result"
        },
        {
          "data": {
            "image/png": "[encoded data removed]",
            "text/plain": [
              "<Figure size 432x288 with 1 Axes>"
            ]
          },
          "metadata": {
            "needs_background": "light"
          },
          "output_type": "display_data"
        }
      ],
      "source": [
        "import numpy as np\n",
        "import matplotlib.pyplot as plt\n",
        "\n",
        "from sklearn.linear_model import LinearRegression\n",
        "from sklearn.metrics import mean_squared_error, r2_score\n",
        "import statsmodels.api as sm\n",
        "\n",
        "x = np.array([0,3,2,1,5,5,4,3,0,4])\n",
        "y = np.array([2,8,7,3,13,12,9,9,3,10])\n",
        "n = np.size(x)\n",
        "\n",
        "x_mean = np.mean(x)\n",
        "y_mean = np.mean(y)\n",
        "\n",
        "sxy = np.sum(x*y)-n*x_mean*y_mean\n",
        "sxx = np.sum(x*y)-n*x_mean*x_mean\n",
        "\n",
        "b1 = sxy/sxx\n",
        "b0 = y_mean-b1*x_mean\n",
        "print('Slope b1 is: ',b1)\n",
        "print('Intercept b0 is: ',b0)\n",
        "\n",
        "plt.scatter(x,y)\n",
        "plt.xlabel('X')\n",
        "plt.ylabel('Y')"
      ]
    },
    {
      "cell_type": "markdown",
      "metadata": {
        "id": "6K1Yg7_AooyL"
      },
      "source": [
        "30. Draw the line of best fit on the Scatter Plot"
      ]
    },
    {
      "cell_type": "code",
      "execution_count": 4,
      "metadata": {
        "colab": {
          "base_uri": "https://localhost:8080/",
          "height": 265
        },
        "id": "ZcNK6jR5oxVK",
        "outputId": "8f3a2b14-0aec-4deb-8ece-3293ff1bc58f"
      },
      "outputs": [
        {
          "data": {
            "image/png": "[encoded data removed]",
            "text/plain": [
              "<Figure size 432x288 with 1 Axes>"
            ]
          },
          "metadata": {
            "needs_background": "light"
          },
          "output_type": "display_data"
        }
      ],
      "source": [
        "import matplotlib.pyplot as plt\n",
        "from scipy import stats\n",
        "\n",
        "x = [0,3,2,1,5,5,4,3,0,4]\n",
        "y = [2,8,7,3,13,12,9,9,3,10]\n",
        "\n",
        "slope, intercept, r, p,std_err = stats.linregress(x,y)\n",
        "\n",
        "def myfunc(x):\n",
        "  return slope * x + intercept\n",
        "\n",
        "mymodel = list(map(myfunc,x))\n",
        "\n",
        "plt.scatter(x,y)\n",
        "plt.plot(x,mymodel)\n",
        "plt.show()"
      ]
    },
    {
      "cell_type": "markdown",
      "metadata": {
        "id": "h8J04clR3k6L"
      },
      "source": [
        "31. What is the slope of the line of best fit? What does it reperesent?\n",
        "\n",
        "  The slope is 1.99 (b1 = 1.99).It means that for every endorsement deal a professional player gets, he gets an average of another $1.99 million in pay each year."
      ]
    },
    {
      "cell_type": "markdown",
      "metadata": {
        "id": "_SBpuMRN4WmW"
      },
      "source": [
        "32. What is the y-intercept of the line of line of best fit? What does it reperesent? \n",
        "It means that there is no corelation between the data sets."
      ]
    },
    {
      "cell_type": "markdown",
      "metadata": {
        "id": "BtlvWliL4p1b"
      },
      "source": [
        "33. What does an r value of zero mean?\n",
        "It means that there is no correlation between the data sets."
      ]
    },
    {
      "cell_type": "markdown",
      "metadata": {
        "id": "WoQ2aZHx_m-G"
      },
      "source": [
        "34. When n = 2 and r = 1, are the data significant? Explain.\n",
        "\n",
        "Since there is very less data as n = 2.Data is not significant."
      ]
    },
    {
      "cell_type": "markdown",
      "metadata": {
        "id": "J14eVnn740hd"
      },
      "source": [
        "35.When n=100 and r = -0.89 , is there a significant correlation? Explain.\n",
        "Yes, there are enough data points and the value of r is strong enough to show that there is a strong negative correlation between the data sets."
      ]
    }
  ],
  "metadata": {
    "colab": {
      "collapsed_sections": [],
      "provenance": []
    },
    "kernelspec": {
      "display_name": "Python 3",
      "name": "python3"
    },
    "language_info": {
      "name": "python"
    }
  },
  "nbformat": 4,
  "nbformat_minor": 0
}
